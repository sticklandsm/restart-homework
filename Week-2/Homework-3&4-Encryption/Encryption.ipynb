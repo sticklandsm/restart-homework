{
 "cells": [
  {
   "cell_type": "code",
   "execution_count": null,
   "metadata": {},
   "outputs": [],
   "source": [
    "from pyaes256 import PyAES256\n",
    "\n",
    "key = \"btuMO0ldIKjLTRvdZJkzyBdNkb/p+/vdgXbbgMDKTjvUp8+wUFLP7tCc5WQuWIxg\"\n",
    "word = \"sean\"\n",
    "encrypter = PyAES256()\n",
    "\n",
    "crypt = encrypter.encrypt(word, key)\n",
    "print('encrypted: ',crypt)\n",
    "\n",
    "crypted =  {'url': 'ZFJQZy9WYm14Q08va1IvaHA3N256dz09', 'salt': b'RMkJAGTEns4wGNeZdqatyg==', 'iv': b'Lbf3eJLxZuUGQI72LFMCXg=='}\n",
    "uncrypted = encrypter.decrypt(url=crypted['url'], salt=crypted['salt'], iv=crypted['iv'], password=key)\n",
    "uncrypted = uncrypted.decode('utf-8')\n",
    "print('unencrypted: ', uncrypted)\n",
    "assert word == uncrypted\n"
   ]
  },
  {
   "cell_type": "code",
   "execution_count": 1,
   "metadata": {},
   "outputs": [
    {
     "name": "stdout",
     "output_type": "stream",
     "text": [
      "True\n"
     ]
    }
   ],
   "source": [
    "\n",
    "from Crypto.Hash import SHA256\n",
    "from cryptography.hazmat.primitives.asymmetric import rsa\n",
    "from cryptography.hazmat.primitives import serialization\n",
    "\n",
    "from Crypto.Signature import PKCS1_v1_5\n",
    "from Crypto.PublicKey import RSA\n",
    "\n",
    "private_key = rsa.generate_private_key(\n",
    "    public_exponent=65537,\n",
    "    key_size=2048\n",
    ")\n",
    "\n",
    "password = \"password\"\n",
    "pem_private_key = private_key.private_bytes(encoding=serialization.Encoding.PEM, format=serialization.PrivateFormat.TraditionalOpenSSL, encryption_algorithm=serialization.NoEncryption())\n",
    "\n",
    "# print(pem_private_key)\n",
    "\n",
    "pem_public_key = private_key.public_key().public_bytes(encoding=serialization.Encoding.PEM, format=serialization.PublicFormat.SubjectPublicKeyInfo)\n",
    "# print(pem_public_key)\n",
    "\n",
    "\n",
    "message = 'message'\n",
    "hashed_message = SHA256.new()\n",
    "hashed_message.update(message.encode('utf-8'))\n",
    "\n",
    "private_key = RSA.importKey(pem_private_key)\n",
    "signer = PKCS1_v1_5.new(private_key)\n",
    "\n",
    "\n",
    "#This is the actual signature:\n",
    "sig = signer.sign(hashed_message).hex()\n",
    "\n",
    "\n",
    "sig = bytes.fromhex(sig)\n",
    "\n",
    "public_key = RSA.importKey(pem_public_key)\n",
    "verifier = PKCS1_v1_5.new(public_key)\n",
    "\n",
    "print(verifier.verify(hashed_message, sig))\n"
   ]
  }
 ],
 "metadata": {
  "kernelspec": {
   "display_name": "Python 3",
   "language": "python",
   "name": "python3"
  },
  "language_info": {
   "codemirror_mode": {
    "name": "ipython",
    "version": 3
   },
   "file_extension": ".py",
   "mimetype": "text/x-python",
   "name": "python",
   "nbconvert_exporter": "python",
   "pygments_lexer": "ipython3",
   "version": "3.12.0"
  }
 },
 "nbformat": 4,
 "nbformat_minor": 2
}
