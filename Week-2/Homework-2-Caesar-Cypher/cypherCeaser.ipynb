{
 "cells": [
  {
   "cell_type": "code",
   "execution_count": 32,
   "metadata": {},
   "outputs": [
    {
     "name": "stdout",
     "output_type": "stream",
     "text": [
      "encrypted: \n",
      "z\n",
      "z\n",
      "z\n",
      "AAA\n"
     ]
    }
   ],
   "source": [
    "\n",
    "\n",
    "def letter_to_number(letter:str):\n",
    "  return ord(letter) - ord(\"a\")+1\n",
    "\n",
    "def number_to_letter(num:int):\n",
    "  return chr(ord(\"a\")+num-1)\n",
    "  \n",
    "def encrypt_letter(letter:str, number:int):\n",
    "  return number_to_letter(((letter_to_number(letter)) + number)%26)\n",
    "\n",
    "def decrypt_letter(letter:str, number:int):\n",
    "  return number_to_letter(((letter_to_number(letter)) - number)%26)\n",
    "  \n",
    "def encrypt_word(word:str, number:int):\n",
    "  word = word.lower()\n",
    "  encrypted = ''\n",
    "  for i in range(len(word)):\n",
    "    if(word[i] == \" \"):\n",
    "      encrypted += \" \"\n",
    "    elif(str.isnumeric(word[i])):\n",
    "      encrypted += word[i]\n",
    "    else:\n",
    "      encrypted += encrypt_letter(word[i], number)\n",
    "  return encrypted.upper()\n",
    "\n",
    "def decrypt_word(word:str, number:int):\n",
    "  word = word.lower()\n",
    "  decrypted = ''\n",
    "  for i in range(len(word)):\n",
    "    if(word[i] == \" \"):\n",
    "      decrypted+= \" \"\n",
    "    elif(str.isnumeric(word[i])):\n",
    "      decrypted+= word[i]\n",
    "    else:\n",
    "      decrypted+= decrypt_letter(word[i], number)\n",
    "  return decrypted.upper()\n",
    "\n",
    "\n",
    "# encrypt_letter('z', 1)\n",
    "option = ' '\n",
    "while(option[0].lower() != 'e' and option[0].lower() != 'd' ):\n",
    "  option = input('encrypt or decrypt?')\n",
    "\n",
    "word = input('enter word to be ecrypted or decrypted')\n",
    "number = input('enter encrypt/decrypt key')\n",
    "\n",
    "if (option[0].lower() == 'e'):\n",
    "  print(encrypt_word(word,int(number)))\n",
    "if (option[0].lower() == 'd'):\n",
    "  print(decrypt_word(word,int(number)))\n",
    "\n",
    "\n"
   ]
  },
  {
   "cell_type": "code",
   "execution_count": 42,
   "metadata": {},
   "outputs": [
    {
     "name": "stdout",
     "output_type": "stream",
     "text": [
      "encrypted:  {'url': 'N1cvaVczbmFTRGF1YnVqTDdFMzRBQT09', 'salt': b'ibdUR8ivR/Q/ytd63MZZxg==', 'iv': b'QjQJZ/P4NWF5M7xe4CDVPg=='}\n",
      "unencrypted:  sean\n"
     ]
    }
   ],
   "source": [
    "from pyaes256 import PyAES256\n",
    "\n",
    "key = \"btuMO0ldIKjLTRvdZJkzyBdNkb/p+/vdgXbbgMDKTjvUp8+wUFLP7tCc5WQuWIxg\"\n",
    "word = \"sean\"\n",
    "encrypter = PyAES256()\n",
    "\n",
    "crypt = encrypter.encrypt(word, key)\n",
    "print('encrypted: ',crypt)\n",
    "\n",
    "crypted =  {'url': 'ZFJQZy9WYm14Q08va1IvaHA3N256dz09', 'salt': b'RMkJAGTEns4wGNeZdqatyg==', 'iv': b'Lbf3eJLxZuUGQI72LFMCXg=='}\n",
    "uncrypted = encrypter.decrypt(url=crypted['url'], salt=crypted['salt'], iv=crypted['iv'], password=key)\n",
    "uncrypted = uncrypted.decode('utf-8')\n",
    "print('unencrypted: ', uncrypted)\n",
    "assert word == uncrypted\n"
   ]
  },
  {
   "cell_type": "code",
   "execution_count": 2,
   "metadata": {},
   "outputs": [
    {
     "name": "stdout",
     "output_type": "stream",
     "text": [
      "True\n"
     ]
    }
   ],
   "source": [
    "\n",
    "from Crypto.Hash import SHA256\n",
    "from cryptography.hazmat.primitives.asymmetric import rsa\n",
    "from cryptography.hazmat.primitives import serialization\n",
    "\n",
    "from Crypto.Signature import PKCS1_v1_5\n",
    "from Crypto.PublicKey import RSA\n",
    "\n",
    "private_key = rsa.generate_private_key(\n",
    "    public_exponent=65537,\n",
    "    key_size=2048\n",
    ")\n",
    "\n",
    "password = \"password\"\n",
    "pem_private_key = private_key.private_bytes(encoding=serialization.Encoding.PEM, format=serialization.PrivateFormat.TraditionalOpenSSL, encryption_algorithm=serialization.NoEncryption())\n",
    "\n",
    "# print(pem_private_key)\n",
    "\n",
    "pem_public_key = private_key.public_key().public_bytes(encoding=serialization.Encoding.PEM, format=serialization.PublicFormat.SubjectPublicKeyInfo)\n",
    "# print(pem_public_key)\n",
    "\n",
    "\n",
    "message = 'message'\n",
    "hashed_message = SHA256.new()\n",
    "hashed_message.update(message.encode('utf-8'))\n",
    "\n",
    "private_key = RSA.importKey(pem_private_key)\n",
    "signer = PKCS1_v1_5.new(private_key)\n",
    "\n",
    "\n",
    "#This is the actual signature:\n",
    "sig = signer.sign(hashed_message).hex()\n",
    "\n",
    "\n",
    "sig = bytes.fromhex(sig)\n",
    "\n",
    "public_key = RSA.importKey(pem_public_key)\n",
    "verifier = PKCS1_v1_5.new(public_key)\n",
    "\n",
    "print(verifier.verify(hashed_message, sig))\n"
   ]
  }
 ],
 "metadata": {
  "kernelspec": {
   "display_name": "Python 3",
   "language": "python",
   "name": "python3"
  },
  "language_info": {
   "codemirror_mode": {
    "name": "ipython",
    "version": 3
   },
   "file_extension": ".py",
   "mimetype": "text/x-python",
   "name": "python",
   "nbconvert_exporter": "python",
   "pygments_lexer": "ipython3",
   "version": "3.12.0"
  }
 },
 "nbformat": 4,
 "nbformat_minor": 2
}
