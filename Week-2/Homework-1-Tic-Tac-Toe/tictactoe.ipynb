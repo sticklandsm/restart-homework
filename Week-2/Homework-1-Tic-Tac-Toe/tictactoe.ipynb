{
 "cells": [
  {
   "cell_type": "code",
   "execution_count": 44,
   "metadata": {},
   "outputs": [
    {
     "name": "stdout",
     "output_type": "stream",
     "text": [
      "    |    |    \n",
      "    |    |    \n",
      "    |    |    \n",
      "    |    |    \n",
      "--------------\n",
      "    |    |    \n",
      "    |    |    \n",
      "    |    |    \n",
      "    |    |    \n",
      "--------------\n",
      "    |    |    \n",
      "    |    |    \n",
      "    |    |    \n",
      "    |    |    \n"
     ]
    }
   ],
   "source": [
    "n = input(\"enter size\")\n",
    "n = int(n)\n",
    "l = []\n",
    "\n",
    "output = \"\"\n",
    "for x in range(n*3 + 2):\n",
    "  for y in range(n*3 + 2): \n",
    "    if ((x+1)%(n+1)):\n",
    "      if(not (y+1)%(n+1)):\n",
    "        output += '|'\n",
    "      else:\n",
    "        output += \" \"\n",
    "    else:\n",
    "      output += \"-\"\n",
    "    # output += \"-\"\n",
    "  print(output)\n",
    "  l.append(output)\n",
    "  output = \"\"\n",
    "  \n",
    "with open('text.txt', 'w') as f:\n",
    "    f.write('\\n'.join(l))\n",
    "\n",
    "\n"
   ]
  }
 ],
 "metadata": {
  "kernelspec": {
   "display_name": "Python 3",
   "language": "python",
   "name": "python3"
  },
  "language_info": {
   "codemirror_mode": {
    "name": "ipython",
    "version": 3
   },
   "file_extension": ".py",
   "mimetype": "text/x-python",
   "name": "python",
   "nbconvert_exporter": "python",
   "pygments_lexer": "ipython3",
   "version": "3.12.0"
  }
 },
 "nbformat": 4,
 "nbformat_minor": 2
}
